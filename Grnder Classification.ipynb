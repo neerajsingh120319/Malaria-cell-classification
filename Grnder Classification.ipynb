{
 "cells": [
  {
   "cell_type": "markdown",
   "metadata": {},
   "source": [
    "# INSERTING ALL REQUIRED LIBRARY"
   ]
  },
  {
   "cell_type": "code",
   "execution_count": 1,
   "metadata": {},
   "outputs": [],
   "source": [
    "import tensorflow as tf\n",
    "from tensorflow import keras\n",
    "from tensorflow.keras import layers, Sequential\n",
    "from tensorflow.keras.preprocessing.image import ImageDataGenerator\n",
    "import matplotlib.pyplot as plt\n",
    "import numpy as np\n",
    "import cv2\n",
    "import random\n",
    "import os"
   ]
  },
  {
   "cell_type": "markdown",
   "metadata": {},
   "source": [
    "# LOADING DATASET AND DATA PRE-PROCESSING"
   ]
  },
  {
   "cell_type": "code",
   "execution_count": 10,
   "metadata": {},
   "outputs": [],
   "source": [
    "img_dims = (96,96,3)\n",
    "dataset1 = []\n",
    "label1 = []\n"
   ]
  },
  {
   "cell_type": "code",
   "execution_count": 3,
   "metadata": {},
   "outputs": [],
   "source": [
    "img_path = \"C:/Users/atul8/Desktop/gernder/Training/\""
   ]
  },
  {
   "cell_type": "code",
   "execution_count": 11,
   "metadata": {},
   "outputs": [],
   "source": [
    "images = os.listdir(img_path + \"female1/\")"
   ]
  },
  {
   "cell_type": "code",
   "execution_count": 5,
   "metadata": {},
   "outputs": [],
   "source": [
    "from tensorflow.keras.preprocessing.image import img_to_array"
   ]
  },
  {
   "cell_type": "code",
   "execution_count": 12,
   "metadata": {},
   "outputs": [],
   "source": [
    "for img in images:\n",
    "    image = cv2.imread(img_path + \"female1/\"+img)\n",
    "    image = cv2.resize(image, (96,96))\n",
    "    image = img_to_array(image)\n",
    "    dataset1.append(image)\n",
    "    label1.append(1)\n",
    "    "
   ]
  },
  {
   "cell_type": "code",
   "execution_count": 13,
   "metadata": {},
   "outputs": [
    {
     "data": {
      "text/plain": [
       "4000"
      ]
     },
     "execution_count": 13,
     "metadata": {},
     "output_type": "execute_result"
    }
   ],
   "source": [
    "len(dataset1)"
   ]
  },
  {
   "cell_type": "code",
   "execution_count": 14,
   "metadata": {},
   "outputs": [],
   "source": [
    "images = os.listdir(img_path + \"male1/\")\n",
    "for img in images:\n",
    "    image = cv2.imread(img_path + \"male1/\"+img)\n",
    "    image = cv2.resize(image, (96,96))\n",
    "    image = img_to_array(image)\n",
    "    dataset1.append(image)\n",
    "    label1.append(0)"
   ]
  },
  {
   "cell_type": "code",
   "execution_count": 15,
   "metadata": {},
   "outputs": [
    {
     "data": {
      "text/plain": [
       "8000"
      ]
     },
     "execution_count": 15,
     "metadata": {},
     "output_type": "execute_result"
    }
   ],
   "source": [
    "len(dataset1)"
   ]
  },
  {
   "cell_type": "code",
   "execution_count": 16,
   "metadata": {},
   "outputs": [
    {
     "data": {
      "text/plain": [
       "8000"
      ]
     },
     "execution_count": 16,
     "metadata": {},
     "output_type": "execute_result"
    }
   ],
   "source": [
    "len(label1)"
   ]
  },
  {
   "cell_type": "code",
   "execution_count": 17,
   "metadata": {},
   "outputs": [],
   "source": [
    "gen = {0 : \"MALE\", 1 : \"FEMALE\"}"
   ]
  },
  {
   "cell_type": "code",
   "execution_count": 18,
   "metadata": {},
   "outputs": [
    {
     "data": {
      "text/plain": [
       "array([[[37., 38., 38.],\n",
       "        [41., 43., 43.],\n",
       "        [41., 43., 43.],\n",
       "        ...,\n",
       "        [55., 53., 53.],\n",
       "        [57., 55., 55.],\n",
       "        [47., 45., 45.]],\n",
       "\n",
       "       [[31., 32., 32.],\n",
       "        [32., 34., 34.],\n",
       "        [28., 30., 30.],\n",
       "        ...,\n",
       "        [59., 57., 57.],\n",
       "        [55., 53., 53.],\n",
       "        [67., 65., 65.]],\n",
       "\n",
       "       [[26., 27., 27.],\n",
       "        [31., 33., 33.],\n",
       "        [29., 31., 31.],\n",
       "        ...,\n",
       "        [66., 64., 64.],\n",
       "        [63., 61., 61.],\n",
       "        [66., 65., 65.]],\n",
       "\n",
       "       ...,\n",
       "\n",
       "       [[19., 28., 18.],\n",
       "        [14., 22., 12.],\n",
       "        [11., 18., 11.],\n",
       "        ...,\n",
       "        [10., 11., 10.],\n",
       "        [21., 22., 20.],\n",
       "        [23., 24., 22.]],\n",
       "\n",
       "       [[14., 25., 16.],\n",
       "        [ 8., 18., 10.],\n",
       "        [ 7., 15.,  9.],\n",
       "        ...,\n",
       "        [19., 18., 18.],\n",
       "        [19., 18., 17.],\n",
       "        [17., 16., 15.]],\n",
       "\n",
       "       [[13., 24., 16.],\n",
       "        [ 6., 17.,  9.],\n",
       "        [ 7., 14.,  9.],\n",
       "        ...,\n",
       "        [21., 20., 20.],\n",
       "        [19., 17., 17.],\n",
       "        [17., 15., 15.]]], dtype=float32)"
      ]
     },
     "execution_count": 18,
     "metadata": {},
     "output_type": "execute_result"
    }
   ],
   "source": [
    "dataset1[0]"
   ]
  },
  {
   "cell_type": "code",
   "execution_count": 19,
   "metadata": {},
   "outputs": [
    {
     "data": {
      "text/plain": [
       "(96, 96, 3)"
      ]
     },
     "execution_count": 19,
     "metadata": {},
     "output_type": "execute_result"
    }
   ],
   "source": [
    "dataset1[0].shape"
   ]
  },
  {
   "cell_type": "code",
   "execution_count": 20,
   "metadata": {},
   "outputs": [],
   "source": [
    "dataset1 = np.array(dataset1, dtype = \"float\") / 255.0"
   ]
  },
  {
   "cell_type": "code",
   "execution_count": 21,
   "metadata": {},
   "outputs": [
    {
     "data": {
      "text/plain": [
       "<matplotlib.image.AxesImage at 0x1b528a5cfa0>"
      ]
     },
     "execution_count": 21,
     "metadata": {},
     "output_type": "execute_result"
    },
    {
     "data": {
      "image/png": "[encoded data removed]",
      "text/plain": [
       "<Figure size 432x288 with 1 Axes>"
      ]
     },
     "metadata": {
      "needs_background": "light"
     },
     "output_type": "display_data"
    }
   ],
   "source": [
    "plt.imshow(dataset1[1001])"
   ]
  },
  {
   "cell_type": "code",
   "execution_count": 22,
   "metadata": {},
   "outputs": [],
   "source": [
    "label = np.array(label)"
   ]
  },
  {
   "cell_type": "code",
   "execution_count": 23,
   "metadata": {},
   "outputs": [
    {
     "data": {
      "text/plain": [
       "1"
      ]
     },
     "execution_count": 23,
     "metadata": {},
     "output_type": "execute_result"
    }
   ],
   "source": [
    "label[0]"
   ]
  },
  {
   "cell_type": "markdown",
   "metadata": {},
   "source": [
    "# APPLYING TRAIN TEST SPLIT"
   ]
  },
  {
   "cell_type": "code",
   "execution_count": 24,
   "metadata": {},
   "outputs": [],
   "source": [
    "from sklearn.model_selection import train_test_split"
   ]
  },
  {
   "cell_type": "code",
   "execution_count": 25,
   "metadata": {},
   "outputs": [],
   "source": [
    "X_train, X_test, y_train, y_test = train_test_split(dataset1, label1, test_size=0.20, random_state=42)"
   ]
  },
  {
   "cell_type": "code",
   "execution_count": 26,
   "metadata": {},
   "outputs": [],
   "source": [
    "from tensorflow.keras.utils import to_categorical"
   ]
  },
  {
   "cell_type": "code",
   "execution_count": 27,
   "metadata": {},
   "outputs": [],
   "source": [
    "y_train = to_categorical(y_train, num_classes=2)"
   ]
  },
  {
   "cell_type": "code",
   "execution_count": 28,
   "metadata": {},
   "outputs": [],
   "source": [
    "y_test = to_categorical(y_test, num_classes=2)"
   ]
  },
  {
   "cell_type": "markdown",
   "metadata": {},
   "source": [
    "# PREPARING A  CNN MODEL"
   ]
  },
  {
   "cell_type": "code",
   "execution_count": 29,
   "metadata": {},
   "outputs": [],
   "source": [
    "model = Sequential()"
   ]
  },
  {
   "cell_type": "code",
   "execution_count": 30,
   "metadata": {},
   "outputs": [],
   "source": [
    "model.add(layers.Conv2D(32, (3,3), padding=\"same\", activation = \"relu\", input_shape= (96,96,3)))\n",
    "model.add(layers.MaxPooling2D(pool_size = (3,3)))\n",
    "model.add(layers.BatchNormalization(axis = -1))\n",
    "model.add(layers.Dropout(0.25))"
   ]
  },
  {
   "cell_type": "code",
   "execution_count": 31,
   "metadata": {},
   "outputs": [],
   "source": [
    "model.add(layers.Conv2D(64, (3,3), padding = \"same\", activation = \"relu\"))\n",
    "model.add(layers.MaxPooling2D(pool_size = (3,3)))\n",
    "model.add(layers.BatchNormalization(axis = -1))\n",
    "model.add(layers.Dropout(0.25))"
   ]
  },
  {
   "cell_type": "code",
   "execution_count": 32,
   "metadata": {},
   "outputs": [],
   "source": [
    "model.add(layers.Conv2D(64, (3,3), padding=\"same\", activation = \"relu\", input_shape= (96,96,3)))\n",
    "model.add(layers.MaxPooling2D(pool_size = (2,2)))\n",
    "model.add(layers.BatchNormalization(axis = -1))\n",
    "model.add(layers.Dropout(0.25))"
   ]
  },
  {
   "cell_type": "code",
   "execution_count": 33,
   "metadata": {},
   "outputs": [],
   "source": [
    "model.add(layers.Conv2D(128, (3,3), padding = \"same\", activation = \"relu\"))\n",
    "model.add(layers.MaxPooling2D(pool_size = (2,2)))\n",
    "model.add(layers.BatchNormalization(axis = -1))\n",
    "model.add(layers.Dropout(0.25))"
   ]
  },
  {
   "cell_type": "code",
   "execution_count": 34,
   "metadata": {},
   "outputs": [],
   "source": [
    "model.add(layers.Conv2D(128, (3,3), padding=\"same\", activation = \"relu\", input_shape= (96,96,3)))\n",
    "model.add(layers.MaxPooling2D(pool_size = (2,2)))\n",
    "model.add(layers.BatchNormalization(axis = -1))\n",
    "model.add(layers.Dropout(0.25))"
   ]
  },
  {
   "cell_type": "code",
   "execution_count": 35,
   "metadata": {},
   "outputs": [],
   "source": [
    "model.add(layers.Flatten())\n",
    "model.add(layers.Dense(1024, activation = \"relu\"))\n",
    "model.add(layers.BatchNormalization())\n",
    "model.add(layers.Dropout(0.25))"
   ]
  },
  {
   "cell_type": "markdown",
   "metadata": {},
   "source": [
    "# OUTPUT LAYER AND MODEL COMPILER"
   ]
  },
  {
   "cell_type": "code",
   "execution_count": 36,
   "metadata": {},
   "outputs": [],
   "source": [
    "model.add(layers.Dense(2, activation = \"softmax\"))"
   ]
  },
  {
   "cell_type": "code",
   "execution_count": 41,
   "metadata": {},
   "outputs": [],
   "source": [
    "model.compile(optimizer = \"adam\", loss = \"categorical_crossentropy\", metrics= [\"accuracy\"])"
   ]
  },
  {
   "cell_type": "code",
   "execution_count": 42,
   "metadata": {},
   "outputs": [
    {
     "data": {
      "text/plain": [
       "<tensorflow.python.keras.engine.sequential.Sequential at 0x1b579c99cd0>"
      ]
     },
     "execution_count": 42,
     "metadata": {},
     "output_type": "execute_result"
    }
   ],
   "source": [
    "model"
   ]
  },
  {
   "cell_type": "code",
   "execution_count": 43,
   "metadata": {},
   "outputs": [
    {
     "name": "stdout",
     "output_type": "stream",
     "text": [
      "Epoch 1/25\n",
      "200/200 [==============================] - 78s 246ms/step - loss: 0.7895 - accuracy: 0.6667\n",
      "Epoch 2/25\n",
      "200/200 [==============================] - 47s 236ms/step - loss: 0.4293 - accuracy: 0.8298\n",
      "Epoch 3/25\n",
      "200/200 [==============================] - 49s 247ms/step - loss: 0.3077 - accuracy: 0.8764\n",
      "Epoch 4/25\n",
      "200/200 [==============================] - 50s 249ms/step - loss: 0.2539 - accuracy: 0.9025\n",
      "Epoch 5/25\n",
      "200/200 [==============================] - 48s 241ms/step - loss: 0.2231 - accuracy: 0.9122\n",
      "Epoch 6/25\n",
      "200/200 [==============================] - 47s 236ms/step - loss: 0.2096 - accuracy: 0.9206\n",
      "Epoch 7/25\n",
      "200/200 [==============================] - 50s 250ms/step - loss: 0.1882 - accuracy: 0.9300\n",
      "Epoch 8/25\n",
      "200/200 [==============================] - 48s 240ms/step - loss: 0.1738 - accuracy: 0.9322\n",
      "Epoch 9/25\n",
      "200/200 [==============================] - 48s 239ms/step - loss: 0.1666 - accuracy: 0.9373\n",
      "Epoch 10/25\n",
      "200/200 [==============================] - 47s 233ms/step - loss: 0.1541 - accuracy: 0.9427\n",
      "Epoch 11/25\n",
      "200/200 [==============================] - 47s 233ms/step - loss: 0.1662 - accuracy: 0.9364\n",
      "Epoch 12/25\n",
      "200/200 [==============================] - 46s 232ms/step - loss: 0.1452 - accuracy: 0.9450\n",
      "Epoch 13/25\n",
      "200/200 [==============================] - 46s 231ms/step - loss: 0.1383 - accuracy: 0.9481\n",
      "Epoch 14/25\n",
      "200/200 [==============================] - 46s 232ms/step - loss: 0.1361 - accuracy: 0.9495\n",
      "Epoch 15/25\n",
      "200/200 [==============================] - 47s 236ms/step - loss: 0.1309 - accuracy: 0.9508\n",
      "Epoch 16/25\n",
      "200/200 [==============================] - 49s 247ms/step - loss: 0.1420 - accuracy: 0.9511\n",
      "Epoch 17/25\n",
      "200/200 [==============================] - 47s 233ms/step - loss: 0.1201 - accuracy: 0.9564\n",
      "Epoch 18/25\n",
      "200/200 [==============================] - 47s 233ms/step - loss: 0.1119 - accuracy: 0.9591\n",
      "Epoch 19/25\n",
      "200/200 [==============================] - 47s 235ms/step - loss: 0.1176 - accuracy: 0.9572\n",
      "Epoch 20/25\n",
      "200/200 [==============================] - 47s 233ms/step - loss: 0.1138 - accuracy: 0.9597\n",
      "Epoch 21/25\n",
      "200/200 [==============================] - 48s 239ms/step - loss: 0.1064 - accuracy: 0.9606\n",
      "Epoch 22/25\n",
      "200/200 [==============================] - 48s 241ms/step - loss: 0.1058 - accuracy: 0.9613\n",
      "Epoch 23/25\n",
      "200/200 [==============================] - 47s 234ms/step - loss: 0.0928 - accuracy: 0.9673\n",
      "Epoch 24/25\n",
      "200/200 [==============================] - 48s 238ms/step - loss: 0.1054 - accuracy: 0.9623\n",
      "Epoch 25/25\n",
      "200/200 [==============================] - 47s 234ms/step - loss: 0.0864 - accuracy: 0.9667\n"
     ]
    },
    {
     "data": {
      "text/plain": [
       "<tensorflow.python.keras.callbacks.History at 0x1b5cf697700>"
      ]
     },
     "execution_count": 43,
     "metadata": {},
     "output_type": "execute_result"
    }
   ],
   "source": [
    "model.fit( X_train, y_train, epochs = 25, verbose=1)"
   ]
  },
  {
   "cell_type": "markdown",
   "metadata": {},
   "source": [
    "# EVALUATING THE ACCURACY"
   ]
  },
  {
   "cell_type": "code",
   "execution_count": 46,
   "metadata": {},
   "outputs": [
    {
     "name": "stdout",
     "output_type": "stream",
     "text": [
      "50/50 [==============================] - 4s 72ms/step - loss: 0.1572 - accuracy: 0.9531\n"
     ]
    },
    {
     "data": {
      "text/plain": [
       "[0.15722639858722687, 0.953125]"
      ]
     },
     "execution_count": 46,
     "metadata": {},
     "output_type": "execute_result"
    }
   ],
   "source": [
    "model.evaluate(X_test, y_test)"
   ]
  },
  {
   "cell_type": "markdown",
   "metadata": {},
   "source": [
    "# PREDICTIONS"
   ]
  },
  {
   "cell_type": "code",
   "execution_count": 52,
   "metadata": {},
   "outputs": [],
   "source": [
    "img = cv2.imread(\"C:/Users/atul8/Desktop/gernder/Validation/female/112953.jpg.jpg\")"
   ]
  },
  {
   "cell_type": "code",
   "execution_count": 53,
   "metadata": {},
   "outputs": [
    {
     "data": {
      "text/plain": [
       "array([[[ 40,  53,  79],\n",
       "        [ 21,  35,  58],\n",
       "        [ 26,  37,  59],\n",
       "        ...,\n",
       "        [ 13,  22,  32],\n",
       "        [ 13,  17,  28],\n",
       "        [ 20,  25,  34]],\n",
       "\n",
       "       [[ 42,  55,  81],\n",
       "        [ 15,  29,  52],\n",
       "        [ 14,  25,  47],\n",
       "        ...,\n",
       "        [  8,  14,  25],\n",
       "        [  8,  12,  23],\n",
       "        [ 14,  19,  28]],\n",
       "\n",
       "       [[ 42,  55,  81],\n",
       "        [ 15,  29,  52],\n",
       "        [  9,  20,  42],\n",
       "        ...,\n",
       "        [  5,  11,  22],\n",
       "        [  3,   7,  18],\n",
       "        [  9,  14,  23]],\n",
       "\n",
       "       ...,\n",
       "\n",
       "       [[ 69,  72,  80],\n",
       "        [ 71,  74,  82],\n",
       "        [ 73,  77,  82],\n",
       "        ...,\n",
       "        [ 87, 100, 138],\n",
       "        [ 63,  76, 114],\n",
       "        [ 40,  53,  91]],\n",
       "\n",
       "       [[ 69,  72,  80],\n",
       "        [ 70,  74,  79],\n",
       "        [ 72,  76,  81],\n",
       "        ...,\n",
       "        [ 81,  94, 132],\n",
       "        [ 60,  73, 111],\n",
       "        [ 40,  53,  91]],\n",
       "\n",
       "       [[ 66,  72,  77],\n",
       "        [ 68,  74,  79],\n",
       "        [ 71,  75,  80],\n",
       "        ...,\n",
       "        [ 78,  94, 131],\n",
       "        [ 64,  76, 116],\n",
       "        [ 46,  58,  98]]], dtype=uint8)"
      ]
     },
     "execution_count": 53,
     "metadata": {},
     "output_type": "execute_result"
    }
   ],
   "source": [
    "img"
   ]
  },
  {
   "cell_type": "code",
   "execution_count": 55,
   "metadata": {},
   "outputs": [],
   "source": [
    "img = cv2.resize(img, (96,96))\n",
    "img = img_to_array(img)"
   ]
  },
  {
   "cell_type": "code",
   "execution_count": 56,
   "metadata": {},
   "outputs": [
    {
     "data": {
      "text/plain": [
       "(96, 96, 3)"
      ]
     },
     "execution_count": 56,
     "metadata": {},
     "output_type": "execute_result"
    }
   ],
   "source": [
    "img.shape"
   ]
  },
  {
   "cell_type": "code",
   "execution_count": 57,
   "metadata": {},
   "outputs": [
    {
     "data": {
      "text/plain": [
       "array([[[ 40.,  53.,  79.],\n",
       "        [ 25.,  38.,  62.],\n",
       "        [ 23.,  35.,  58.],\n",
       "        ...,\n",
       "        [ 12.,  20.,  30.],\n",
       "        [ 14.,  18.,  29.],\n",
       "        [ 19.,  24.,  33.]],\n",
       "\n",
       "       [[ 42.,  55.,  81.],\n",
       "        [ 21.,  35.,  58.],\n",
       "        [ 13.,  26.,  48.],\n",
       "        ...,\n",
       "        [  7.,  12.,  23.],\n",
       "        [  8.,  12.,  23.],\n",
       "        [ 13.,  18.,  27.]],\n",
       "\n",
       "       [[ 42.,  55.,  81.],\n",
       "        [ 22.,  36.,  60.],\n",
       "        [ 12.,  24.,  48.],\n",
       "        ...,\n",
       "        [  4.,   9.,  20.],\n",
       "        [  4.,   8.,  18.],\n",
       "        [  8.,  13.,  22.]],\n",
       "\n",
       "       ...,\n",
       "\n",
       "       [[ 69.,  72.,  81.],\n",
       "        [ 70.,  73.,  82.],\n",
       "        [ 72.,  76.,  82.],\n",
       "        ...,\n",
       "        [ 79.,  92., 129.],\n",
       "        [ 61.,  74., 111.],\n",
       "        [ 43.,  56.,  93.]],\n",
       "\n",
       "       [[ 69.,  72.,  80.],\n",
       "        [ 70.,  73.,  80.],\n",
       "        [ 71.,  75.,  80.],\n",
       "        ...,\n",
       "        [ 74.,  87., 125.],\n",
       "        [ 56.,  69., 107.],\n",
       "        [ 40.,  53.,  91.]],\n",
       "\n",
       "       [[ 66.,  72.,  77.],\n",
       "        [ 68.,  73.,  78.],\n",
       "        [ 70.,  75.,  80.],\n",
       "        ...,\n",
       "        [ 73.,  87., 125.],\n",
       "        [ 60.,  72., 112.],\n",
       "        [ 45.,  57.,  97.]]], dtype=float32)"
      ]
     },
     "execution_count": 57,
     "metadata": {},
     "output_type": "execute_result"
    }
   ],
   "source": [
    "img"
   ]
  },
  {
   "cell_type": "code",
   "execution_count": 58,
   "metadata": {},
   "outputs": [],
   "source": [
    "img = np.array(img,dtype = \"float\")/255.0"
   ]
  },
  {
   "cell_type": "code",
   "execution_count": 59,
   "metadata": {},
   "outputs": [
    {
     "data": {
      "text/plain": [
       "array([[[0.15686275, 0.20784314, 0.30980392],\n",
       "        [0.09803922, 0.14901961, 0.24313725],\n",
       "        [0.09019608, 0.1372549 , 0.22745098],\n",
       "        ...,\n",
       "        [0.04705882, 0.07843137, 0.11764706],\n",
       "        [0.05490196, 0.07058824, 0.11372549],\n",
       "        [0.0745098 , 0.09411765, 0.12941176]],\n",
       "\n",
       "       [[0.16470588, 0.21568627, 0.31764706],\n",
       "        [0.08235294, 0.1372549 , 0.22745098],\n",
       "        [0.05098039, 0.10196078, 0.18823529],\n",
       "        ...,\n",
       "        [0.02745098, 0.04705882, 0.09019608],\n",
       "        [0.03137255, 0.04705882, 0.09019608],\n",
       "        [0.05098039, 0.07058824, 0.10588235]],\n",
       "\n",
       "       [[0.16470588, 0.21568627, 0.31764706],\n",
       "        [0.08627451, 0.14117647, 0.23529412],\n",
       "        [0.04705882, 0.09411765, 0.18823529],\n",
       "        ...,\n",
       "        [0.01568627, 0.03529412, 0.07843137],\n",
       "        [0.01568627, 0.03137255, 0.07058824],\n",
       "        [0.03137255, 0.05098039, 0.08627451]],\n",
       "\n",
       "       ...,\n",
       "\n",
       "       [[0.27058824, 0.28235294, 0.31764706],\n",
       "        [0.2745098 , 0.28627451, 0.32156863],\n",
       "        [0.28235294, 0.29803922, 0.32156863],\n",
       "        ...,\n",
       "        [0.30980392, 0.36078431, 0.50588235],\n",
       "        [0.23921569, 0.29019608, 0.43529412],\n",
       "        [0.16862745, 0.21960784, 0.36470588]],\n",
       "\n",
       "       [[0.27058824, 0.28235294, 0.31372549],\n",
       "        [0.2745098 , 0.28627451, 0.31372549],\n",
       "        [0.27843137, 0.29411765, 0.31372549],\n",
       "        ...,\n",
       "        [0.29019608, 0.34117647, 0.49019608],\n",
       "        [0.21960784, 0.27058824, 0.41960784],\n",
       "        [0.15686275, 0.20784314, 0.35686275]],\n",
       "\n",
       "       [[0.25882353, 0.28235294, 0.30196078],\n",
       "        [0.26666667, 0.28627451, 0.30588235],\n",
       "        [0.2745098 , 0.29411765, 0.31372549],\n",
       "        ...,\n",
       "        [0.28627451, 0.34117647, 0.49019608],\n",
       "        [0.23529412, 0.28235294, 0.43921569],\n",
       "        [0.17647059, 0.22352941, 0.38039216]]])"
      ]
     },
     "execution_count": 59,
     "metadata": {},
     "output_type": "execute_result"
    }
   ],
   "source": [
    "img"
   ]
  },
  {
   "cell_type": "code",
   "execution_count": 60,
   "metadata": {},
   "outputs": [
    {
     "data": {
      "text/plain": [
       "(96, 96, 3)"
      ]
     },
     "execution_count": 60,
     "metadata": {},
     "output_type": "execute_result"
    }
   ],
   "source": [
    "img.shape"
   ]
  },
  {
   "cell_type": "code",
   "execution_count": 61,
   "metadata": {},
   "outputs": [
    {
     "data": {
      "text/plain": [
       "<matplotlib.image.AxesImage at 0x1b5cf8ec610>"
      ]
     },
     "execution_count": 61,
     "metadata": {},
     "output_type": "execute_result"
    },
    {
     "data": {
      "image/png": "[encoded data removed]",
      "text/plain": [
       "<Figure size 432x288 with 1 Axes>"
      ]
     },
     "metadata": {
      "needs_background": "light"
     },
     "output_type": "display_data"
    }
   ],
   "source": [
    "plt.imshow(img)"
   ]
  },
  {
   "cell_type": "code",
   "execution_count": 62,
   "metadata": {},
   "outputs": [],
   "source": [
    "img1 = img.reshape(1,96,96,3)"
   ]
  },
  {
   "cell_type": "code",
   "execution_count": 63,
   "metadata": {},
   "outputs": [
    {
     "data": {
      "text/plain": [
       "(1, 96, 96, 3)"
      ]
     },
     "execution_count": 63,
     "metadata": {},
     "output_type": "execute_result"
    }
   ],
   "source": [
    "img1.shape"
   ]
  },
  {
   "cell_type": "code",
   "execution_count": 64,
   "metadata": {},
   "outputs": [
    {
     "data": {
      "text/plain": [
       "'FEMALE'"
      ]
     },
     "execution_count": 64,
     "metadata": {},
     "output_type": "execute_result"
    }
   ],
   "source": [
    "gen[np.argmax(model.predict(img1))]"
   ]
  },
  {
   "cell_type": "code",
   "execution_count": null,
   "metadata": {},
   "outputs": [],
   "source": []
  }
 ],
 "metadata": {
  "kernelspec": {
   "display_name": "Python 3",
   "language": "python",
   "name": "python3"
  },
  "language_info": {
   "codemirror_mode": {
    "name": "ipython",
    "version": 3
   },
   "file_extension": ".py",
   "mimetype": "text/x-python",
   "name": "python",
   "nbconvert_exporter": "python",
   "pygments_lexer": "ipython3",
   "version": "3.8.5"
  }
 },
 "nbformat": 4,
 "nbformat_minor": 4
}
