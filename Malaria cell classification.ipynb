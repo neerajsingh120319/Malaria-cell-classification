{
 "cells": [
  {
   "cell_type": "markdown",
   "metadata": {},
   "source": [
    "# Imported Required Library "
   ]
  },
  {
   "cell_type": "code",
   "execution_count": 29,
   "metadata": {},
   "outputs": [],
   "source": [
    "import tensorflow as tf\n",
    "\n",
    "from tensorflow import keras\n",
    "\n",
    "from tensorflow.keras import layers,Sequential,Model\n",
    "from tensorflow.keras.utils import to_categorical\n",
    "\n",
    "from PIL import Image\n",
    "\n",
    "import cv2\n",
    "\n",
    "import os\n",
    "\n",
    "import numpy as np\n",
    "\n",
    "import matplotlib.pyplot as plt\n",
    "import numpy as np"
   ]
  },
  {
   "cell_type": "markdown",
   "metadata": {},
   "source": [
    "# Loading Dataset in a program(Parasitized)"
   ]
  },
  {
   "cell_type": "code",
   "execution_count": 2,
   "metadata": {},
   "outputs": [],
   "source": [
    "direct1 = (\"C:/Users/atul8/Desktop/images/\")"
   ]
  },
  {
   "cell_type": "code",
   "execution_count": 3,
   "metadata": {},
   "outputs": [],
   "source": [
    "image_dir = os.listdir(direct1 + \"parasitized/\")\n"
   ]
  },
  {
   "cell_type": "code",
   "execution_count": 4,
   "metadata": {},
   "outputs": [],
   "source": [
    "lst2 =[]\n",
    "lbl2 =[]\n",
    "size = 64"
   ]
  },
  {
   "cell_type": "markdown",
   "metadata": {},
   "source": [
    "# pre-processing of data(Parasitized)"
   ]
  },
  {
   "cell_type": "code",
   "execution_count": 5,
   "metadata": {},
   "outputs": [],
   "source": [
    "for i,im_dir in enumerate(image_dir):\n",
    "     if im_dir.split(\".\")[1]==\"png\":\n",
    "        img = cv2.imread(direct1+ \"parasitized/\"+im_dir)\n",
    "        img = Image.fromarray(img,\"RGB\")\n",
    "        img = img.resize((size,size))\n",
    "        lst2.append(np.array(img))\n",
    "        lbl2.append(0)\n",
    "    \n"
   ]
  },
  {
   "cell_type": "markdown",
   "metadata": {},
   "source": [
    "#  Checking the size and length for all images ( same or not) After pre-processing"
   ]
  },
  {
   "cell_type": "code",
   "execution_count": 6,
   "metadata": {},
   "outputs": [
    {
     "data": {
      "text/plain": [
       "500"
      ]
     },
     "execution_count": 6,
     "metadata": {},
     "output_type": "execute_result"
    }
   ],
   "source": [
    "len(lst2)"
   ]
  },
  {
   "cell_type": "code",
   "execution_count": 7,
   "metadata": {},
   "outputs": [
    {
     "data": {
      "text/plain": [
       "500"
      ]
     },
     "execution_count": 7,
     "metadata": {},
     "output_type": "execute_result"
    }
   ],
   "source": [
    "len(lbl2)"
   ]
  },
  {
   "cell_type": "code",
   "execution_count": 8,
   "metadata": {},
   "outputs": [
    {
     "data": {
      "text/plain": [
       "12288"
      ]
     },
     "execution_count": 8,
     "metadata": {},
     "output_type": "execute_result"
    }
   ],
   "source": [
    "lst2[20].size\n",
    "\n",
    "lst2[200].size\n",
    "\n",
    "lst2[450].size\n",
    "\n",
    "lst2[499].size\n",
    "\n"
   ]
  },
  {
   "cell_type": "markdown",
   "metadata": {},
   "source": [
    "# Loading Dataset in a program(uninfected)"
   ]
  },
  {
   "cell_type": "code",
   "execution_count": 9,
   "metadata": {},
   "outputs": [],
   "source": [
    "direct2 = \"C:/Users/atul8/Desktop/images/\""
   ]
  },
  {
   "cell_type": "code",
   "execution_count": 10,
   "metadata": {},
   "outputs": [],
   "source": [
    "img_dire2 = os.listdir(direct2+\"uninfected/\")"
   ]
  },
  {
   "cell_type": "markdown",
   "metadata": {},
   "source": [
    "# pre-processing of data(Uninifected)"
   ]
  },
  {
   "cell_type": "code",
   "execution_count": 11,
   "metadata": {},
   "outputs": [],
   "source": [
    "for y ,dir1 in enumerate(img_dire2):\n",
    "    if dir1.split(\".\")[1]==\"png\":\n",
    "        img11 =cv2.imread(direct2+\"uninfected/\"+dir1)\n",
    "        img11 =Image.fromarray(img11,\"RGB\")\n",
    "        img11 =img11.resize((size,size))\n",
    "        lst2.append(np.array(img11))\n",
    "        lbl2.append(1)\n",
    "        \n",
    "        "
   ]
  },
  {
   "cell_type": "markdown",
   "metadata": {},
   "source": [
    "# Checking the size and length for all images ( same or not) After pre-processing(uninfected)"
   ]
  },
  {
   "cell_type": "code",
   "execution_count": 12,
   "metadata": {},
   "outputs": [
    {
     "data": {
      "text/plain": [
       "1000"
      ]
     },
     "execution_count": 12,
     "metadata": {},
     "output_type": "execute_result"
    }
   ],
   "source": [
    "len(lst2)\n",
    "len(lbl2)"
   ]
  },
  {
   "cell_type": "code",
   "execution_count": 13,
   "metadata": {},
   "outputs": [
    {
     "data": {
      "text/plain": [
       "12288"
      ]
     },
     "execution_count": 13,
     "metadata": {},
     "output_type": "execute_result"
    }
   ],
   "source": [
    "lst2[223].size\n",
    "lst2[330].size\n",
    "lst2[444].size\n",
    "lst2[199].size"
   ]
  },
  {
   "cell_type": "code",
   "execution_count": 15,
   "metadata": {},
   "outputs": [
    {
     "data": {
      "text/plain": [
       "(64, 64, 3)"
      ]
     },
     "execution_count": 15,
     "metadata": {},
     "output_type": "execute_result"
    }
   ],
   "source": [
    "lst2[400].shape"
   ]
  },
  {
   "cell_type": "markdown",
   "metadata": {},
   "source": [
    "# CNN MODEL"
   ]
  },
  {
   "cell_type": "code",
   "execution_count": 19,
   "metadata": {},
   "outputs": [],
   "source": [
    "input_shape = (size,size,3)\n",
    "int1 = layers.Input(shape = input_shape)\n",
    "cnn1 = layers.Conv2D(32,(3,3),activation =\"relu\",padding =\"same\")(int1)\n",
    "pool1 = layers.MaxPooling2D(pool_size = (2,2))(cnn1)\n",
    "norm = layers.BatchNormalization(axis = -1)(pool1)\n",
    "drop = layers.Dropout(0.20)(norm)"
   ]
  },
  {
   "cell_type": "markdown",
   "metadata": {},
   "source": [
    "# CNN MODEL2"
   ]
  },
  {
   "cell_type": "code",
   "execution_count": 21,
   "metadata": {},
   "outputs": [],
   "source": [
    "cnn2 = layers.Conv2D(32,(3,3),activation =\"relu\",padding =\"same\")(drop)\n",
    "pool2 = layers.MaxPooling2D(pool_size = (2,2))(cnn2)\n",
    "norm1 = layers.BatchNormalization(axis = -1)(pool2)\n",
    "drop2 = layers.Dropout(0.20)(norm1)"
   ]
  },
  {
   "cell_type": "markdown",
   "metadata": {},
   "source": [
    "# FLATTEN LAYER"
   ]
  },
  {
   "cell_type": "code",
   "execution_count": 22,
   "metadata": {},
   "outputs": [],
   "source": [
    "flat = layers.Flatten()(drop2)"
   ]
  },
  {
   "cell_type": "markdown",
   "metadata": {},
   "source": [
    "# FIRST HIDDEN LAYER(DENSE)"
   ]
  },
  {
   "cell_type": "code",
   "execution_count": 23,
   "metadata": {},
   "outputs": [],
   "source": [
    "hidden1 = layers.Dense(512,activation = \"relu\")(flat)\n",
    "norm3 = layers.BatchNormalization(axis = -1)(hidden1)\n",
    "drop3 = layers.Dropout(rate =0.20)(norm3)"
   ]
  },
  {
   "cell_type": "markdown",
   "metadata": {},
   "source": [
    "# SECCOND HIDDEN LAYER(DENSE)"
   ]
  },
  {
   "cell_type": "code",
   "execution_count": 24,
   "metadata": {},
   "outputs": [],
   "source": [
    "hidden2 = layers.Dense(256,activation = \"relu\")(drop3)\n",
    "norm4 = layers.BatchNormalization(axis = -1)(hidden2)\n",
    "drop4 = layers.Dropout(rate =0.20)(norm4)"
   ]
  },
  {
   "cell_type": "markdown",
   "metadata": {},
   "source": [
    "# OUTPUT LAYER AND MODEL CREATION"
   ]
  },
  {
   "cell_type": "code",
   "execution_count": 26,
   "metadata": {},
   "outputs": [],
   "source": [
    "out = layers.Dense(2,activation = \"softmax\")(drop4)"
   ]
  },
  {
   "cell_type": "code",
   "execution_count": 27,
   "metadata": {},
   "outputs": [],
   "source": [
    "model =Model(inputs = int1,outputs = out)"
   ]
  },
  {
   "cell_type": "code",
   "execution_count": 28,
   "metadata": {},
   "outputs": [
    {
     "name": "stdout",
     "output_type": "stream",
     "text": [
      "Model: \"model\"\n",
      "_________________________________________________________________\n",
      "Layer (type)                 Output Shape              Param #   \n",
      "=================================================================\n",
      "input_4 (InputLayer)         [(None, 64, 64, 3)]       0         \n",
      "_________________________________________________________________\n",
      "conv2d_2 (Conv2D)            (None, 64, 64, 32)        896       \n",
      "_________________________________________________________________\n",
      "max_pooling2d (MaxPooling2D) (None, 32, 32, 32)        0         \n",
      "_________________________________________________________________\n",
      "batch_normalization (BatchNo (None, 32, 32, 32)        128       \n",
      "_________________________________________________________________\n",
      "dropout (Dropout)            (None, 32, 32, 32)        0         \n",
      "_________________________________________________________________\n",
      "conv2d_3 (Conv2D)            (None, 32, 32, 32)        9248      \n",
      "_________________________________________________________________\n",
      "max_pooling2d_1 (MaxPooling2 (None, 16, 16, 32)        0         \n",
      "_________________________________________________________________\n",
      "batch_normalization_1 (Batch (None, 16, 16, 32)        128       \n",
      "_________________________________________________________________\n",
      "dropout_1 (Dropout)          (None, 16, 16, 32)        0         \n",
      "_________________________________________________________________\n",
      "conv2d_4 (Conv2D)            (None, 16, 16, 32)        9248      \n",
      "_________________________________________________________________\n",
      "max_pooling2d_2 (MaxPooling2 (None, 8, 8, 32)          0         \n",
      "_________________________________________________________________\n",
      "batch_normalization_2 (Batch (None, 8, 8, 32)          128       \n",
      "_________________________________________________________________\n",
      "dropout_2 (Dropout)          (None, 8, 8, 32)          0         \n",
      "_________________________________________________________________\n",
      "flatten (Flatten)            (None, 2048)              0         \n",
      "_________________________________________________________________\n",
      "dense (Dense)                (None, 512)               1049088   \n",
      "_________________________________________________________________\n",
      "batch_normalization_3 (Batch (None, 512)               2048      \n",
      "_________________________________________________________________\n",
      "dropout_3 (Dropout)          (None, 512)               0         \n",
      "_________________________________________________________________\n",
      "dense_1 (Dense)              (None, 256)               131328    \n",
      "_________________________________________________________________\n",
      "batch_normalization_4 (Batch (None, 256)               1024      \n",
      "_________________________________________________________________\n",
      "dropout_4 (Dropout)          (None, 256)               0         \n",
      "_________________________________________________________________\n",
      "dense_2 (Dense)              (None, 2)                 514       \n",
      "=================================================================\n",
      "Total params: 1,203,778\n",
      "Trainable params: 1,202,050\n",
      "Non-trainable params: 1,728\n",
      "_________________________________________________________________\n"
     ]
    }
   ],
   "source": [
    "model.summary()"
   ]
  },
  {
   "cell_type": "markdown",
   "metadata": {},
   "source": [
    "# COVERTING LIST IN ARRAY(NUMPY) FORMAT"
   ]
  },
  {
   "cell_type": "code",
   "execution_count": 30,
   "metadata": {},
   "outputs": [],
   "source": [
    "label_cat = to_categorical(np.array(lbl2))"
   ]
  },
  {
   "cell_type": "markdown",
   "metadata": {},
   "source": [
    "# SPLITTING "
   ]
  },
  {
   "cell_type": "code",
   "execution_count": 37,
   "metadata": {},
   "outputs": [
    {
     "data": {
      "text/plain": [
       "800"
      ]
     },
     "execution_count": 37,
     "metadata": {},
     "output_type": "execute_result"
    }
   ],
   "source": [
    "from sklearn.model_selection import train_test_split\n",
    "\n",
    "x_train,x_test,y_train,y_test=train_test_split(lst2,label_cat,test_size = 0.20,random_state=0)\n",
    "\n",
    "len(x_train)\n"
   ]
  },
  {
   "cell_type": "code",
   "execution_count": 36,
   "metadata": {},
   "outputs": [
    {
     "data": {
      "text/plain": [
       "200"
      ]
     },
     "execution_count": 36,
     "metadata": {},
     "output_type": "execute_result"
    }
   ],
   "source": [
    "len(x_test)"
   ]
  },
  {
   "cell_type": "markdown",
   "metadata": {},
   "source": [
    "# COMPILING THE MODEL"
   ]
  },
  {
   "cell_type": "code",
   "execution_count": 46,
   "metadata": {},
   "outputs": [
    {
     "name": "stdout",
     "output_type": "stream",
     "text": [
      "Model: \"model\"\n",
      "_________________________________________________________________\n",
      "Layer (type)                 Output Shape              Param #   \n",
      "=================================================================\n",
      "input_4 (InputLayer)         [(None, 64, 64, 3)]       0         \n",
      "_________________________________________________________________\n",
      "conv2d_2 (Conv2D)            (None, 64, 64, 32)        896       \n",
      "_________________________________________________________________\n",
      "max_pooling2d (MaxPooling2D) (None, 32, 32, 32)        0         \n",
      "_________________________________________________________________\n",
      "batch_normalization (BatchNo (None, 32, 32, 32)        128       \n",
      "_________________________________________________________________\n",
      "dropout (Dropout)            (None, 32, 32, 32)        0         \n",
      "_________________________________________________________________\n",
      "conv2d_3 (Conv2D)            (None, 32, 32, 32)        9248      \n",
      "_________________________________________________________________\n",
      "max_pooling2d_1 (MaxPooling2 (None, 16, 16, 32)        0         \n",
      "_________________________________________________________________\n",
      "batch_normalization_1 (Batch (None, 16, 16, 32)        128       \n",
      "_________________________________________________________________\n",
      "dropout_1 (Dropout)          (None, 16, 16, 32)        0         \n",
      "_________________________________________________________________\n",
      "conv2d_4 (Conv2D)            (None, 16, 16, 32)        9248      \n",
      "_________________________________________________________________\n",
      "max_pooling2d_2 (MaxPooling2 (None, 8, 8, 32)          0         \n",
      "_________________________________________________________________\n",
      "batch_normalization_2 (Batch (None, 8, 8, 32)          128       \n",
      "_________________________________________________________________\n",
      "dropout_2 (Dropout)          (None, 8, 8, 32)          0         \n",
      "_________________________________________________________________\n",
      "flatten (Flatten)            (None, 2048)              0         \n",
      "_________________________________________________________________\n",
      "dense (Dense)                (None, 512)               1049088   \n",
      "_________________________________________________________________\n",
      "batch_normalization_3 (Batch (None, 512)               2048      \n",
      "_________________________________________________________________\n",
      "dropout_3 (Dropout)          (None, 512)               0         \n",
      "_________________________________________________________________\n",
      "dense_1 (Dense)              (None, 256)               131328    \n",
      "_________________________________________________________________\n",
      "batch_normalization_4 (Batch (None, 256)               1024      \n",
      "_________________________________________________________________\n",
      "dropout_4 (Dropout)          (None, 256)               0         \n",
      "_________________________________________________________________\n",
      "dense_2 (Dense)              (None, 2)                 514       \n",
      "=================================================================\n",
      "Total params: 1,203,778\n",
      "Trainable params: 1,202,050\n",
      "Non-trainable params: 1,728\n",
      "_________________________________________________________________\n"
     ]
    }
   ],
   "source": [
    "model.compile(optimizer = \"adam\",loss = \"categorical_crossentropy\",metrics = [\"accuracy\"])\n",
    "model.summary()"
   ]
  },
  {
   "cell_type": "code",
   "execution_count": 73,
   "metadata": {},
   "outputs": [
    {
     "name": "stdout",
     "output_type": "stream",
     "text": [
      "Epoch 1/12\n",
      "23/23 [==============================] - 4s 162ms/step - loss: 8.6327e-04 - accuracy: 1.0000 - val_loss: 0.3017 - val_accuracy: 0.9500\n",
      "Epoch 2/12\n",
      "23/23 [==============================] - 4s 167ms/step - loss: 2.1468e-04 - accuracy: 1.0000 - val_loss: 0.1602 - val_accuracy: 0.9750\n",
      "Epoch 3/12\n",
      "23/23 [==============================] - 4s 173ms/step - loss: 3.1490e-04 - accuracy: 1.0000 - val_loss: 0.1953 - val_accuracy: 0.9750\n",
      "Epoch 4/12\n",
      "23/23 [==============================] - 4s 169ms/step - loss: 2.9762e-04 - accuracy: 1.0000 - val_loss: 0.3017 - val_accuracy: 0.9500\n",
      "Epoch 5/12\n",
      "23/23 [==============================] - 4s 163ms/step - loss: 2.0326e-04 - accuracy: 1.0000 - val_loss: 0.1968 - val_accuracy: 0.9750\n",
      "Epoch 6/12\n",
      "23/23 [==============================] - 4s 162ms/step - loss: 1.1582e-04 - accuracy: 1.0000 - val_loss: 0.1573 - val_accuracy: 0.9750\n",
      "Epoch 7/12\n",
      "23/23 [==============================] - 4s 174ms/step - loss: 1.1164e-04 - accuracy: 1.0000 - val_loss: 0.1485 - val_accuracy: 0.9750\n",
      "Epoch 8/12\n",
      "23/23 [==============================] - 4s 166ms/step - loss: 2.0443e-04 - accuracy: 1.0000 - val_loss: 0.1697 - val_accuracy: 0.9750\n",
      "Epoch 9/12\n",
      "23/23 [==============================] - 4s 162ms/step - loss: 2.9202e-04 - accuracy: 1.0000 - val_loss: 0.1115 - val_accuracy: 0.9875\n",
      "Epoch 10/12\n",
      "23/23 [==============================] - 4s 163ms/step - loss: 2.0389e-04 - accuracy: 1.0000 - val_loss: 0.0954 - val_accuracy: 0.9875\n",
      "Epoch 11/12\n",
      "23/23 [==============================] - 4s 177ms/step - loss: 2.1073e-04 - accuracy: 1.0000 - val_loss: 0.0956 - val_accuracy: 0.9875\n",
      "Epoch 12/12\n",
      "23/23 [==============================] - 4s 171ms/step - loss: 6.0557e-05 - accuracy: 1.0000 - val_loss: 0.0965 - val_accuracy: 0.9875\n"
     ]
    }
   ],
   "source": [
    " history =model.fit(np.array(x_train),np.array(y_train),epochs =12,validation_split =0.1,verbose =1,shuffle =False)"
   ]
  },
  {
   "cell_type": "markdown",
   "metadata": {},
   "source": [
    "# EVALUATION"
   ]
  },
  {
   "cell_type": "code",
   "execution_count": 74,
   "metadata": {},
   "outputs": [
    {
     "name": "stdout",
     "output_type": "stream",
     "text": [
      "7/7 [==============================] - 0s 36ms/step - loss: 0.1124 - accuracy: 0.9800\n",
      "Test_Accuracy: 98.00%\n"
     ]
    }
   ],
   "source": [
    "print(\"Test_Accuracy: {:.2f}%\".format(model.evaluate(np.array(x_test),np.array(y_test))[1]*100))"
   ]
  },
  {
   "cell_type": "markdown",
   "metadata": {},
   "source": [
    "# PLOTTING "
   ]
  },
  {
   "cell_type": "code",
   "execution_count": 75,
   "metadata": {},
   "outputs": [
    {
     "data": {
      "image/png": "[encoded data removed]",
      "text/plain": [
       "<Figure size 864x288 with 2 Axes>"
      ]
     },
     "metadata": {
      "needs_background": "light"
     },
     "output_type": "display_data"
    }
   ],
   "source": [
    "f,(ax1,ax2) = plt.subplots(1,2,figsize= (12,4))\n",
    "t = f.suptitle(\"CNN PERFOMANCE\",fontsize =12)\n",
    "f.subplots_adjust(top =0.85,wspace =0.3)\n",
    "max_epoch = len(history.history[\"accuracy\"])+1\n",
    "epoch_list = list(range(1,max_epoch))\n",
    "ax1.plot(epoch_list,history.history[\"accuracy\"],label=\"Train_Accuracy\")\n",
    "ax1.plot(epoch_list,history.history[\"val_accuracy\"],label=\"Validation_Accuracy\")\n",
    "ax1.set_xticks(np.arange(1,max_epoch,5))\n",
    "ax1.set_ylabel(\"Accuracy_value\")\n",
    "ax1.set_xlabel(\"Epochs\")\n",
    "ax1.set_title(\"Accuracy\")\n",
    "l1 =ax1.legend(loc =\"best\")\n",
    "ax2.plot(epoch_list,history.history[\"loss\"],label=\"Train_loss\")\n",
    "ax2.plot(epoch_list,history.history[\"val_loss\"],label=\"Validation_Loss\")\n",
    "ax2.set_xticks(np.arange(1,max_epoch,5))\n",
    "ax2.set_ylabel(\"Loss_value\")\n",
    "ax2.set_xlabel(\"Epochs\")\n",
    "ax2.set_title(\"Loss\")\n",
    "l2=ax2.legend(loc =\"best\")"
   ]
  }
 ],
 "metadata": {
  "kernelspec": {
   "display_name": "Python 3",
   "language": "python",
   "name": "python3"
  },
  "language_info": {
   "codemirror_mode": {
    "name": "ipython",
    "version": 3
   },
   "file_extension": ".py",
   "mimetype": "text/x-python",
   "name": "python",
   "nbconvert_exporter": "python",
   "pygments_lexer": "ipython3",
   "version": "3.8.5"
  }
 },
 "nbformat": 4,
 "nbformat_minor": 4
}
